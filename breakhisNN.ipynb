{
  "nbformat": 4,
  "nbformat_minor": 0,
  "metadata": {
    "colab": {
      "provenance": [],
      "include_colab_link": true
    },
    "kernelspec": {
      "name": "python3",
      "display_name": "Python 3"
    },
    "language_info": {
      "name": "python"
    }
  },
  "cells": [
    {
      "cell_type": "markdown",
      "metadata": {
        "id": "view-in-github",
        "colab_type": "text"
      },
      "source": [
        "<a href=\"https://colab.research.google.com/github/luciaPi/BreakhisNNlecture/blob/main/breakhisNN.ipynb\" target=\"_parent\"><img src=\"https://colab.research.google.com/assets/colab-badge.svg\" alt=\"Open In Colab\"/></a>"
      ]
    },
    {
      "cell_type": "markdown",
      "source": [
        "Tento blok je len pre účely priebežného mazania...."
      ],
      "metadata": {
        "id": "Yovvneb3J7HF"
      }
    },
    {
      "cell_type": "code",
      "source": [
        "!rm -rf /tmp/adenosis-benign-400x/\n",
        "!rm -rf /tmp/lobural_malign-400x/\n",
        "!rm -f adenosis_benign.zip\n",
        "!rm -f lobural_malign.zip\n",
        "!rm -rf /tmp/test/\n",
        "!rm -rf /tmp/train/\n",
        "!rm -rf /tmp/valid/\n",
        "!rm -rf /tmp/breakhis/\n",
        "\n",
        "\n"
      ],
      "metadata": {
        "id": "P4GCYhY0Jv0c"
      },
      "execution_count": null,
      "outputs": []
    },
    {
      "cell_type": "markdown",
      "source": [
        "**Popis datasetu**\n",
        "\n",
        "K dispozícii sú dva datasety:\n",
        "\n",
        "Dataset 1 cca 109MB\n",
        "\n",
        "- 106 benígnych patchov adenosis 400x\n",
        "Cesta: https://zilinskauniverzita-my.sharepoint.com/:u:/g/personal/cimrak2_uniza_sk/ESNTMX_-R_tOqoOUNfJZZVwBc0kGjpaGj8kLOFJQbzHHQQ?download=1\n",
        "\n",
        "- 137 malígnych patchov lobural 400x\n",
        "Cesta: https://zilinskauniverzita-my.sharepoint.com/:u:/g/personal/cimrak2_uniza_sk/EYDAmtsvJ3xCjERDf1iXAMcB_ZPa4s90ZJzn3ynoyG7urA?download=1\n",
        "\n",
        "\n",
        "Dataset 2 cca 900MB\n",
        "\n",
        "- 588 benígnych patchov 400x (adenosis, fibroadenoma, phyllodes, tubular)\n",
        "Cesta: https://zilinskauniverzita-my.sharepoint.com/:u:/g/personal/cimrak2_uniza_sk/EeyTWoKYZaJJrpQPZWh-OoYBlqx0lVYTcopQYvLWg9TR8w?download=1\n",
        "\n",
        "- 1232 malígnych patchov 400x (ductal, lobural, mucinous, papillary)\n",
        "Cesta: https://zilinskauniverzita-my.sharepoint.com/:u:/g/personal/cimrak2_uniza_sk/EeKFsy_Azo5Hmehjz3IBWCMBQjS3HpY1E0lzUfHEuDPvFw?download=1\n"
      ],
      "metadata": {
        "id": "ECPBFS9-Ityv"
      }
    },
    {
      "cell_type": "markdown",
      "source": [
        "**Stiahnutie datasetu**"
      ],
      "metadata": {
        "id": "KIaO7MHwKTpK"
      }
    },
    {
      "cell_type": "code",
      "execution_count": null,
      "metadata": {
        "id": "0j_9c8RBUA6o"
      },
      "outputs": [],
      "source": [
        "#!wget --no-check-certificate \\\n",
        "#    Cesta \\\n",
        "#    -O /tmp/benign.zip\n",
        "\n",
        "# Dataset 1\n",
        "!wget --no-check-certificate \\\n",
        "    https://zilinskauniverzita-my.sharepoint.com/:u:/g/personal/cimrak2_uniza_sk/ESNTMX_-R_tOqoOUNfJZZVwBc0kGjpaGj8kLOFJQbzHHQQ?download=1 \\\n",
        "    -O /tmp/adenosis_benign.zip\n",
        "\n",
        "!wget --no-check-certificate \\\n",
        "    https://zilinskauniverzita-my.sharepoint.com/:u:/g/personal/cimrak2_uniza_sk/EYDAmtsvJ3xCjERDf1iXAMcB_ZPa4s90ZJzn3ynoyG7urA?download=1 \\\n",
        "    -O /tmp/lobural_malign.zip\n",
        "\n",
        "# Dataset 2\n",
        "#!wget --no-check-certificate \\\n",
        "#    https://zilinskauniverzita-my.sharepoint.com/:u:/g/personal/cimrak2_uniza_sk/EeyTWoKYZaJJrpQPZWh-OoYBlqx0lVYTcopQYvLWg9TR8w?download=1 \\\n",
        "#    -O /tmp/adenosis_benign.zip\n",
        "\n",
        "#!wget --no-check-certificate \\\n",
        "#    https://zilinskauniverzita-my.sharepoint.com/:u:/g/personal/cimrak2_uniza_sk/EeKFsy_Azo5Hmehjz3IBWCMBQjS3HpY1E0lzUfHEuDPvFw?download=1 \\\n",
        "#    -O /tmp/lobural_malign.zip\n",
        "\n"
      ]
    },
    {
      "cell_type": "markdown",
      "source": [
        "**Rozpackovanie datasetu**"
      ],
      "metadata": {
        "id": "Nn_ZXP_OKZJh"
      }
    },
    {
      "cell_type": "code",
      "source": [
        "import os\n",
        "import zipfile\n",
        "\n",
        "local_zip = '/tmp/adenosis_benign.zip'\n",
        "zip_ref = zipfile.ZipFile(local_zip, 'r')\n",
        "zip_ref.extractall('/tmp')\n",
        "!rm -rf /tmp/adenosis_benign.zip\n",
        "\n",
        "local_zip = '/tmp/lobural_malign.zip'\n",
        "zip_ref = zipfile.ZipFile(local_zip, 'r')\n",
        "zip_ref.extractall('/tmp')\n",
        "zip_ref.close()\n",
        "!rm -rf /tmp/lobural_malign.zip"
      ],
      "metadata": {
        "id": "ZhBx6u6VLhpA"
      },
      "execution_count": null,
      "outputs": []
    },
    {
      "cell_type": "markdown",
      "source": [
        "**Rozdelenie na trénovaciu, validačnú a testovaciu sadu**"
      ],
      "metadata": {
        "id": "MnGKjKhcKfvq"
      }
    },
    {
      "cell_type": "code",
      "source": [
        "import os\n",
        "import random\n",
        "import shutil\n",
        "\n",
        "# Dataset 1\n",
        "data_benign_path = \"/tmp/adenosis-benign-400x/\"\n",
        "data_malignant_path = \"/tmp/lobural_malign-400x/\"\n",
        "\n",
        "# Dataset 2\n",
        "#data_benign_path = \"/tmp/benign-400x/\"\n",
        "#data_malignant_path = \"/tmp/malignant-400x/\"\n",
        "\n",
        "# path to destination folders\n",
        "train_benign_dir = \"/tmp/breakhis/train/benign\"\n",
        "valid_benign_dir = \"/tmp/breakhis/valid/benign\"\n",
        "test_benign_dir = \"/tmp/breakhis/test/benign\"\n",
        "train_malignant_dir = \"/tmp/breakhis/train/malignant\"\n",
        "valid_malignant_dir = \"/tmp/breakhis/valid/malignant\"\n",
        "test_malignant_dir = \"/tmp/breakhis/test/malignant\"\n",
        "\n",
        "# Define a list of image extensions\n",
        "image_extensions = ['.png']\n",
        "\n",
        "# Create a list of image filenames in 'data_path'\n",
        "imgs_list_benign = [filename for filename in os.listdir(data_benign_path) if os.path.splitext(filename)[-1] in image_extensions]\n",
        "imgs_list_malignant = [filename for filename in os.listdir(data_malignant_path) if os.path.splitext(filename)[-1] in image_extensions]\n",
        "\n",
        "print('pocet v imgs_list_benign ',len(imgs_list_benign))\n",
        "print('pocet v imgs_list_malignant ',len(imgs_list_malignant))\n"
      ],
      "metadata": {
        "id": "WisHW4y2QQra"
      },
      "execution_count": null,
      "outputs": []
    },
    {
      "cell_type": "markdown",
      "source": [
        "**Rozdelenie datasetu**\n",
        "\n",
        "*   Trénovacie dáta - tréning modelu\n",
        "*   Validačné dáta - tuning parametrov modelu\n",
        "*   Testovacie dáta - záverečné testovanie modelu"
      ],
      "metadata": {
        "id": "V3hNfz7TF7C3"
      }
    },
    {
      "cell_type": "code",
      "source": [
        "# Sets the random seed\n",
        "random.seed(42)\n",
        "\n",
        "# Shuffle the list of image filenames\n",
        "random.shuffle(imgs_list_benign)\n",
        "random.shuffle(imgs_list_malignant)\n",
        "\n",
        "# determine the number of images for each set\n",
        "train_size_benign = int(len(imgs_list_benign) * 0.70)\n",
        "valid_size_benign = int(len(imgs_list_benign) * 0.15)\n",
        "test_size_benign = int(len(imgs_list_benign) * 0.15)\n",
        "train_size_malignant = int(len(imgs_list_malignant) * 0.70)\n",
        "valid_size_malignant = int(len(imgs_list_malignant) * 0.15)\n",
        "test_size_malignant = int(len(imgs_list_malignant) * 0.15)\n",
        "print('train_size_benign ', train_size_benign)\n",
        "print('valid_size_benign ', valid_size_benign)\n",
        "print('test_size_benign ', test_size_benign)\n",
        "print('train_size_malignant ', train_size_malignant)\n",
        "print('valid_size_malignant ', valid_size_malignant)\n",
        "print('test_size_malignant ', test_size_malignant)\n"
      ],
      "metadata": {
        "id": "TyAQTU2_VnI-"
      },
      "execution_count": null,
      "outputs": []
    },
    {
      "cell_type": "code",
      "source": [
        "# Create destination folders if they don't exist\n",
        "for folder_path in [train_benign_dir, valid_benign_dir, test_benign_dir]:\n",
        "    if not os.path.exists(folder_path):\n",
        "        os.makedirs(folder_path)\n",
        "for folder_path in [train_malignant_dir, valid_malignant_dir, test_malignant_dir]:\n",
        "    if not os.path.exists(folder_path):\n",
        "        os.makedirs(folder_path)\n",
        "\n",
        "# Copy image files to destination folders\n",
        "for i, f in enumerate(imgs_list_benign):\n",
        "    if i < train_size_benign:\n",
        "        dest_folder = train_benign_dir\n",
        "    elif i < train_size_benign + valid_size_benign:\n",
        "        dest_folder = valid_benign_dir\n",
        "    else:\n",
        "        dest_folder = test_benign_dir\n",
        "    shutil.copy(os.path.join(data_benign_path, f), os.path.join(dest_folder, f))\n",
        "\n",
        "for i, f in enumerate(imgs_list_malignant):\n",
        "    if i < train_size_malignant:\n",
        "        dest_folder = train_malignant_dir\n",
        "    elif i < train_size_malignant + valid_size_malignant:\n",
        "        dest_folder = valid_malignant_dir\n",
        "    else:\n",
        "        dest_folder = test_malignant_dir\n",
        "    shutil.copy(os.path.join(data_malignant_path, f), os.path.join(dest_folder, f))\n",
        "\n",
        "# Dataset 1\n",
        "!rm -rf /tmp/adenosis-benign-400x/\n",
        "!rm -rf /tmp/lobural_malign-400x/\n",
        "\n",
        "# Dataset 2\n",
        "!rm -rf /tmp/benign-400x/\n",
        "!rm -rf /tmp/malignant-400x/\n"
      ],
      "metadata": {
        "id": "Ybhz-ZOvVscU"
      },
      "execution_count": null,
      "outputs": []
    },
    {
      "cell_type": "code",
      "source": [
        "train_benign_names = os.listdir(train_benign_dir)\n",
        "print(train_benign_names[:10])\n",
        "\n",
        "train_malignant_names = os.listdir(train_malignant_dir)\n",
        "print(train_malignant_names[:10])\n",
        "\n",
        "validation_benign_names = os.listdir(valid_benign_dir)\n",
        "print(validation_benign_names[:10])\n",
        "\n",
        "validation_malignant_names = os.listdir(valid_malignant_dir)\n",
        "print(validation_malignant_names[:10])"
      ],
      "metadata": {
        "id": "EAOmeYT0F673"
      },
      "execution_count": null,
      "outputs": []
    },
    {
      "cell_type": "code",
      "source": [
        "print('total training benign images:', len(os.listdir(train_benign_dir)))\n",
        "print('total validation benign images:', len(os.listdir(valid_benign_dir)))\n",
        "print('total test benign images:', len(os.listdir(test_benign_dir)))\n",
        "print('total training malignant images:', len(os.listdir(train_malignant_dir)))\n",
        "print('total validation malignant images:', len(os.listdir(valid_malignant_dir)))\n",
        "print('total test malignant images:', len(os.listdir(test_malignant_dir)))"
      ],
      "metadata": {
        "id": "n69VFv_-Nbom"
      },
      "execution_count": null,
      "outputs": []
    },
    {
      "cell_type": "code",
      "source": [
        "%matplotlib inline\n",
        "\n",
        "import matplotlib.pyplot as plt\n",
        "import matplotlib.image as mpimg\n",
        "\n",
        "# Parameters for our graph; we'll output images in a 4x4 configuration\n",
        "nrows = 2\n",
        "ncols = 4\n",
        "\n",
        "# Index for iterating over images\n",
        "pic_index = 0\n",
        "\n",
        "# Set up matplotlib fig, and size it to fit 4x4 pics\n",
        "fig = plt.gcf()\n",
        "fig.set_size_inches(ncols * 4, nrows * 4)\n",
        "\n",
        "pic_index += 8\n",
        "next_benign_pic = [os.path.join(train_benign_dir, fname)\n",
        "                for fname in train_benign_names[pic_index-8:pic_index]]\n",
        "\n",
        "for i, img_path in enumerate(next_benign_pic):\n",
        "  # Set up subplot; subplot indices start at 1\n",
        "  sp = plt.subplot(nrows, ncols, i + 1)\n",
        "  sp.axis('Off') # Don't show axes (or gridlines)\n",
        "\n",
        "  img = mpimg.imread(img_path)\n",
        "  plt.imshow(img)\n",
        "\n",
        "plt.show()"
      ],
      "metadata": {
        "id": "Mb80p_QaPJhx"
      },
      "execution_count": null,
      "outputs": []
    },
    {
      "cell_type": "code",
      "source": [
        "# Index for iterating over images\n",
        "pic_index = 0\n",
        "\n",
        "# Set up matplotlib fig, and size it to fit 4x4 pics\n",
        "fig = plt.gcf()\n",
        "fig.set_size_inches(ncols * 4, nrows * 4)\n",
        "\n",
        "pic_index += 8\n",
        "next_malignant_pic = [os.path.join(train_malignant_dir, fname)\n",
        "                for fname in train_malignant_names[pic_index-8:pic_index]]\n",
        "\n",
        "for i, img_path in enumerate(next_malignant_pic):\n",
        "  # Set up subplot; subplot indices start at 1\n",
        "  sp = plt.subplot(nrows, ncols, i + 1)\n",
        "  sp.axis('Off') # Don't show axes (or gridlines)\n",
        "\n",
        "  img = mpimg.imread(img_path)\n",
        "  plt.imshow(img)\n",
        "\n",
        "plt.show()"
      ],
      "metadata": {
        "id": "iu7azvOxPz0B"
      },
      "execution_count": null,
      "outputs": []
    },
    {
      "cell_type": "code",
      "source": [
        "from tensorflow.keras.preprocessing.image import ImageDataGenerator\n",
        "\n",
        "# All images will be rescaled by 1./255\n",
        "train_datagen = ImageDataGenerator(rescale=1/255)\n",
        "validation_datagen = ImageDataGenerator(rescale=1/255)\n",
        "test_datagen = ImageDataGenerator(rescale=1/255)\n",
        "\n",
        "# Flow training images in batches of 120 using train_datagen generator\n",
        "train_generator = train_datagen.flow_from_directory(\n",
        "        '/tmp/breakhis/train/',  # This is the source directory for training images\n",
        "        classes = ['benign', 'malignant'],\n",
        "        target_size=(224, 224),  # All images will be resized to 224x224\n",
        "        batch_size = 20,\n",
        "        # Use binary labels\n",
        "        class_mode='binary')\n",
        "\n",
        "# Flow validation images in batches of 19 using valid_datagen generator\n",
        "validation_generator = validation_datagen.flow_from_directory(\n",
        "        '/tmp/breakhis/valid/',  # This is the source directory for training images\n",
        "        classes = ['benign', 'malignant'],\n",
        "        target_size=(224, 224),  # All images will be resized to 200x200\n",
        "        batch_size = 10,\n",
        "        # Use binary labels\n",
        "        class_mode='binary',\n",
        "        shuffle=False)\n",
        "\n",
        "# Flow test images in batches of 19 using test_datagen generator\n",
        "test_generator = test_datagen.flow_from_directory(\n",
        "        '/tmp/breakhis/test/',  # This is the source directory for training images\n",
        "        classes = ['benign', 'malignant'],\n",
        "        target_size=(224, 224),  # All images will be resized to 200x200\n",
        "        batch_size = 10,\n",
        "        # Use binary labels\n",
        "        class_mode='binary',\n",
        "        shuffle=False)"
      ],
      "metadata": {
        "id": "BUttk_3fQ6p9"
      },
      "execution_count": null,
      "outputs": []
    },
    {
      "cell_type": "code",
      "source": [
        "import tensorflow as tf\n",
        "import numpy as np\n",
        "from itertools import cycle\n",
        "\n",
        "from sklearn import svm, datasets\n",
        "from sklearn.metrics import roc_curve, auc\n",
        "from sklearn.model_selection import train_test_split\n",
        "from sklearn.preprocessing import label_binarize\n",
        "from sklearn.multiclass import OneVsRestClassifier\n",
        "from scipy import interp\n",
        "from sklearn.metrics import roc_auc_score"
      ],
      "metadata": {
        "id": "w6lQ3iETbVcW"
      },
      "execution_count": null,
      "outputs": []
    },
    {
      "cell_type": "markdown",
      "source": [
        "**Vytvorenie modelu**\n",
        "\n",
        "<img src=\"https://drive.google.com/uc?id=1rhtONHuZP2tF6ECEJtAzMy4lmAkozZ42\" alt=\"Dataset\" width=90%>\n",
        "\n",
        "Vrstvy neurónovej siete:\n",
        "*   Flatten - z 2D do 1D\n",
        "*   Dense - klasická vrstva"
      ],
      "metadata": {
        "id": "1aKka6xiFr6r"
      }
    },
    {
      "cell_type": "code",
      "source": [
        "model = tf.keras.models.Sequential([tf.keras.layers.Flatten(input_shape = (224,224,3)),\n",
        "                                    tf.keras.layers.Dense(128, activation=tf.nn.relu),\n",
        "                                    tf.keras.layers.Dense(1, activation=tf.nn.sigmoid)])"
      ],
      "metadata": {
        "id": "-Qxt3tHMa13-"
      },
      "execution_count": null,
      "outputs": []
    },
    {
      "cell_type": "code",
      "source": [
        "model.summary()"
      ],
      "metadata": {
        "id": "Hr9NXAA1bbsH"
      },
      "execution_count": null,
      "outputs": []
    },
    {
      "cell_type": "code",
      "source": [
        "model.compile(optimizer = tf.optimizers.Adam(learning_rate=0.001),\n",
        "              loss = 'binary_crossentropy',\n",
        "              metrics=['accuracy'])"
      ],
      "metadata": {
        "id": "Q3AvuTGwcuUE"
      },
      "execution_count": null,
      "outputs": []
    },
    {
      "cell_type": "code",
      "source": [
        "history = model.fit(train_generator,\n",
        "      steps_per_epoch = 8,\n",
        "      epochs = 15,\n",
        "      verbose = 1,\n",
        "      validation_data = validation_generator,\n",
        "      validation_steps = 8)"
      ],
      "metadata": {
        "id": "719umRDJcy9u"
      },
      "execution_count": null,
      "outputs": []
    },
    {
      "cell_type": "code",
      "source": [
        "model.evaluate(validation_generator)"
      ],
      "metadata": {
        "id": "C-RGC_jqd2O1"
      },
      "execution_count": null,
      "outputs": []
    },
    {
      "cell_type": "code",
      "source": [
        "model.evaluate(test_generator)"
      ],
      "metadata": {
        "id": "-u_dTvEDd81A"
      },
      "execution_count": null,
      "outputs": []
    },
    {
      "cell_type": "markdown",
      "source": [
        "**Úloha - zlepšite model**\n",
        "- Zmeňte architektúru siete - pridajte vrstvu, počet neurónov\n",
        "- Zmeňte learning rate\n"
      ],
      "metadata": {
        "id": "L9mISlm7I7Hc"
      }
    },
    {
      "cell_type": "markdown",
      "source": [
        "**Convolutional neural network**\n",
        "\n",
        "<img src=\"https://drive.google.com/uc?id=1gGigTVgYztXnfsGrycq5dWEgthwpZNr1\" alt=\"CNN1\" width=90%>\n",
        "\n",
        "<img src=\"https://drive.google.com/uc?id=1WFKxXOSEWPWajwpywWrg2oQh9OD26ZoL\" alt=\"CNN2\" width=90%>"
      ],
      "metadata": {
        "id": "NMQigvEVHto1"
      }
    }
  ]
}